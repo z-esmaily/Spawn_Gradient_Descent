{
 "cells": [
  {
   "cell_type": "code",
   "execution_count": 1,
   "metadata": {
    "colab": {
     "base_uri": "https://localhost:8080/"
    },
    "executionInfo": {
     "elapsed": 38491,
     "status": "ok",
     "timestamp": 1734817862262,
     "user": {
      "displayName": "IHC-NLP esmaili",
      "userId": "10162749902557126552"
     },
     "user_tz": -210
    },
    "id": "TQ4DD9wl9c5u",
    "outputId": "47b4232f-4986-424e-fad0-5d426ab2b3b3"
   },
   "outputs": [
    {
     "name": "stdout",
     "output_type": "stream",
     "text": [
      "Mounted at /content/drive\n"
     ]
    }
   ],
   "source": [
    "from google.colab import drive\n",
    "drive.mount('/content/drive')"
   ]
  },
  {
   "cell_type": "code",
   "execution_count": null,
   "metadata": {
    "id": "oQJ6KHKUvMMC"
   },
   "outputs": [],
   "source": [
    "!pip install progress"
   ]
  },
  {
   "cell_type": "code",
   "execution_count": null,
   "metadata": {
    "id": "ZVBcJJ5MISzJ"
   },
   "outputs": [],
   "source": [
    "!pip install tensorboardX"
   ]
  },
  {
   "cell_type": "code",
   "execution_count": 4,
   "metadata": {
    "colab": {
     "base_uri": "https://localhost:8080/"
    },
    "executionInfo": {
     "elapsed": 14,
     "status": "ok",
     "timestamp": 1734817869907,
     "user": {
      "displayName": "IHC-NLP esmaili",
      "userId": "10162749902557126552"
     },
     "user_tz": -210
    },
    "id": "QPRShJKSybwp",
    "outputId": "a1139370-0125-4ea1-eb7f-57375d84261d"
   },
   "outputs": [
    {
     "name": "stdout",
     "output_type": "stream",
     "text": [
      "/content/drive/MyDrive\n"
     ]
    }
   ],
   "source": [
    "%cd '/content/drive/MyDrive/'"
   ]
  },
  {
   "cell_type": "code",
   "execution_count": null,
   "metadata": {
    "id": "FcVL9bs7kK3T"
   },
   "outputs": [],
   "source": [
    "! git clone https://github.com/z-esmaily/Spawn_Gradient_Descent"
   ]
  },
  {
   "cell_type": "markdown",
   "metadata": {
    "id": "ruuuxT5q0j8v"
   },
   "source": [
    "# **2D**"
   ]
  },
  {
   "cell_type": "code",
   "execution_count": null,
   "metadata": {
    "colab": {
     "base_uri": "https://localhost:8080/"
    },
    "executionInfo": {
     "elapsed": 6,
     "status": "ok",
     "timestamp": 1734800909348,
     "user": {
      "displayName": "IHC-NLP esmaili",
      "userId": "10162749902557126552"
     },
     "user_tz": -210
    },
    "id": "1XKi-wz0qTnA",
    "outputId": "32e873a2-3606-4a0a-cb91-048d88863484"
   },
   "outputs": [],
   "source": [
    "%cd /content/drive/MyDrive/Spawn_Gradient_Descent/evaluation_2d/"
   ]
  },
  {
   "cell_type": "markdown",
   "metadata": {
    "id": "UckVo21Q0XxO"
   },
   "source": [
    "**plot and run for Fixed Initial point**"
   ]
  },
  {
   "cell_type": "code",
   "execution_count": null,
   "metadata": {
    "id": "GxrU1fEsttQM"
   },
   "outputs": [],
   "source": [
    "!python Compare_SpawnGD_Fix_InitPoint.py # default function name is 'Naive_Quadratic' and default initial point is [0.0,0.5]"
   ]
  },
  {
   "cell_type": "code",
   "execution_count": null,
   "metadata": {
    "id": "XjKpV5dMqRM_"
   },
   "outputs": [],
   "source": [
    "!python Compare_SpawnGD_Fix_InitPoint.py --function_name 'Ackley' --initial_point 0.3 0.5"
   ]
  },
  {
   "cell_type": "markdown",
   "metadata": {
    "id": "PDY-MSYK0yWu"
   },
   "source": [
    "**Mean Distance to Answer & Mean runtime for 100 Random Initial Points**\n"
   ]
  },
  {
   "cell_type": "code",
   "execution_count": null,
   "metadata": {
    "id": "P9KUcX2ez7fH"
   },
   "outputs": [],
   "source": [
    "!python Compare_SpawnGD_Random_InitPoint.py # default function name is 'Naive_Quadratic'"
   ]
  },
  {
   "cell_type": "code",
   "execution_count": null,
   "metadata": {
    "id": "CfSQcfoByKkh"
   },
   "outputs": [],
   "source": [
    "!python Compare_SpawnGD_Random_InitPoint.py --function_name 'Ackley'"
   ]
  },
  {
   "cell_type": "markdown",
   "metadata": {
    "id": "jUOoU3B217NA"
   },
   "source": [
    "**Mean Runtimes for 100 Random Initial Points with considering Epsilon distance to answer:**\n"
   ]
  },
  {
   "cell_type": "code",
   "execution_count": null,
   "metadata": {
    "id": "6Gme5JTl2XjG"
   },
   "outputs": [],
   "source": [
    "!python Compare_SpawnGD_Random_InitPoint_Eps_toMin.py # default function name is 'Naive_Quadratic'"
   ]
  },
  {
   "cell_type": "code",
   "execution_count": null,
   "metadata": {
    "id": "3mdjSQXL16Mz"
   },
   "outputs": [],
   "source": [
    "!python Compare_SpawnGD_Random_InitPoint_Eps_toMin.py --function_name 'Ackley'"
   ]
  }
 ],
 "metadata": {
  "colab": {
   "provenance": []
  },
  "kernelspec": {
   "display_name": "Python 3",
   "name": "python3"
  },
  "language_info": {
   "name": "python"
  }
 },
 "nbformat": 4,
 "nbformat_minor": 0
}
