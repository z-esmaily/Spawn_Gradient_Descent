{
 "cells": [
  {
   "cell_type": "code",
   "execution_count": 1,
   "metadata": {
    "colab": {
     "base_uri": "https://localhost:8080/"
    },
    "executionInfo": {
     "elapsed": 38491,
     "status": "ok",
     "timestamp": 1734817862262,
     "user": {
      "displayName": "IHC-NLP esmaili",
      "userId": "10162749902557126552"
     },
     "user_tz": -210
    },
    "id": "TQ4DD9wl9c5u",
    "outputId": "47b4232f-4986-424e-fad0-5d426ab2b3b3"
   },
   "outputs": [
    {
     "name": "stdout",
     "output_type": "stream",
     "text": [
      "Mounted at /content/drive\n"
     ]
    }
   ],
   "source": [
    "from google.colab import drive\n",
    "drive.mount('/content/drive')"
   ]
  },
  {
   "cell_type": "code",
   "execution_count": null,
   "metadata": {
    "id": "oQJ6KHKUvMMC"
   },
   "outputs": [],
   "source": [
    "!pip install progress"
   ]
  },
  {
   "cell_type": "code",
   "execution_count": null,
   "metadata": {
    "id": "ZVBcJJ5MISzJ"
   },
   "outputs": [],
   "source": [
    "!pip install tensorboardX"
   ]
  },
  {
   "cell_type": "code",
   "execution_count": 4,
   "metadata": {
    "colab": {
     "base_uri": "https://localhost:8080/"
    },
    "executionInfo": {
     "elapsed": 14,
     "status": "ok",
     "timestamp": 1734817869907,
     "user": {
      "displayName": "IHC-NLP esmaili",
      "userId": "10162749902557126552"
     },
     "user_tz": -210
    },
    "id": "QPRShJKSybwp",
    "outputId": "a1139370-0125-4ea1-eb7f-57375d84261d"
   },
   "outputs": [
    {
     "name": "stdout",
     "output_type": "stream",
     "text": [
      "/content/drive/MyDrive\n"
     ]
    }
   ],
   "source": [
    "%cd '/content/drive/MyDrive/'"
   ]
  },
  {
   "cell_type": "code",
   "execution_count": null,
   "metadata": {
    "id": "FcVL9bs7kK3T"
   },
   "outputs": [],
   "source": [
    "! git clone https://github.com/z-esmaily/Spawn_Gradient_Descent"
   ]
  },
  {
   "cell_type": "markdown",
   "metadata": {
    "id": "VIpH11eB1Aqa"
   },
   "source": [
    "# **Deep models**"
   ]
  },
  {
   "cell_type": "code",
   "execution_count": null,
   "metadata": {
    "colab": {
     "base_uri": "https://localhost:8080/"
    },
    "executionInfo": {
     "elapsed": 8,
     "status": "ok",
     "timestamp": 1734817869907,
     "user": {
      "displayName": "IHC-NLP esmaili",
      "userId": "10162749902557126552"
     },
     "user_tz": -210
    },
    "id": "jV2PlyWpM1wI",
    "outputId": "4dddb555-f6b9-43b3-df2c-289e71a4bdae"
   },
   "outputs": [],
   "source": [
    "%cd /content/drive/MyDrive/Spawn_Gradient_Descent/Deep_implementation"
   ]
  },
  {
   "cell_type": "code",
   "execution_count": null,
   "metadata": {
    "id": "zz4R2mvLa7OD"
   },
   "outputs": [],
   "source": [
    "!python Cifar_Compare_Best_Accuracy_Time.py --arch densenet --depth 19 --epochs 31 --checkpoint 'checkpoint/cifar/compare'"
   ]
  },
  {
   "cell_type": "code",
   "execution_count": null,
   "metadata": {
    "id": "wIhV3YXIUswq"
   },
   "outputs": [],
   "source": [
    "!python cifar.py --arch resnet --depth 20 --epochs 25 --optimizer 'spawngd' --checkpoint 'checkpoint/cifar/spawngd'"
   ]
  }
 ],
 "metadata": {
  "colab": {
   "provenance": []
  },
  "kernelspec": {
   "display_name": "Python 3",
   "name": "python3"
  },
  "language_info": {
   "name": "python"
  }
 },
 "nbformat": 4,
 "nbformat_minor": 0
}
